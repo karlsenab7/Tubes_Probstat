{
 "cells": [
  {
   "cell_type": "code",
   "execution_count": null,
   "metadata": {},
   "outputs": [],
   "source": [
    "import pandas as pd\n",
    "import numpy as np\n",
    "from matplotlib import pyplot as plt\n",
    "from scipy.stats import norm\n",
    "import statistics\n",
    "import seaborn as sns\n",
    "from scipy import stats"
   ]
  },
  {
   "cell_type": "code",
   "execution_count": null,
   "metadata": {},
   "outputs": [],
   "source": [
    "data = pd.read_csv(\"../data/Gandum.csv\", names = [\"Daerah\",\"SumbuUtama\",\"SumbuKecil\",\"Keunikan\",\"AreaBulatan\",\"Diameter\",\"KadarAir\",\"Keliling\",\"Bulatan\",\"Ransum\",\"Kelas\"])\n",
    "data"
   ]
  },
  {
   "cell_type": "code",
   "execution_count": null,
   "metadata": {},
   "outputs": [],
   "source": [
    "# Attributes\n",
    "attribute = [\"Daerah\",\"SumbuUtama\",\"SumbuKecil\",\"Keunikan\",\"AreaBulatan\",\"Diameter\",\"KadarAir\",\"Keliling\",\"Bulatan\",\"Ransum\",\"Kelas\"]"
   ]
  },
  {
   "cell_type": "code",
   "execution_count": 37,
   "metadata": {
    "tags": []
   },
   "outputs": [
    {
     "output_type": "execute_result",
     "data": {
      "text/plain": [
       "                 Daerah  SumbuUtama  SumbuKecil  Keunikan   AreaBulatan  \\\n",
       "Mean        4801.246000  116.045171   53.715246  0.878764  4.937048e+03   \n",
       "Median      4735.000000  115.405140   53.731199  0.890045  4.857000e+03   \n",
       "Modus       3992.000000  106.000000   55.000000  0.000000  3.802000e+03   \n",
       "Std          986.395491   18.282626    4.071075  0.036586  1.011696e+03   \n",
       "Var       972976.065615  334.254412   16.573650  0.001339  1.023529e+06   \n",
       "Maximum     2522.000000   74.133114   39.906517  0.719916  2.579000e+03   \n",
       "Minimum     7453.000000  227.928583   68.977700  0.914001  7.720000e+03   \n",
       "Range          1.000000    1.000000    1.000000  1.000000  1.000000e+00   \n",
       "25%         4042.750000  104.116098   51.193576  0.863676  4.170250e+03   \n",
       "50%         4735.000000  115.405140   53.731199  0.890045  4.857000e+03   \n",
       "75%         5495.500000  129.046792   56.325158  0.907578  5.654250e+03   \n",
       "IQR         1452.750000   24.930694    5.131582  0.043902  1.484000e+03   \n",
       "Skew           0.238144    0.761529   -0.010828 -1.623472  2.575600e-01   \n",
       "Kurtosis      -0.434631    4.330534    0.475568  2.917256 -4.096849e-01   \n",
       "\n",
       "           Diameter  KadarAir     Keliling    Bulatan    Ransum     Kelas  \n",
       "Mean      77.771158  0.648372   281.479722   0.761737  2.150915  1.502000  \n",
       "Median    77.645277  0.626117   280.045500   0.761288  2.193599  2.000000  \n",
       "Modus     74.000000  0.000000   240.000000   0.000000  2.000000  2.000000  \n",
       "Std        8.056867  0.094367    37.335402   0.061702  0.249767  0.500497  \n",
       "Var       64.913111  0.008905  1393.932221   0.003807  0.062383  0.250497  \n",
       "Maximum   56.666658  0.409927   197.015000   0.174590  1.440796  1.000000  \n",
       "Minimum   97.413830  0.878899   488.837000   0.904748  2.464809  2.000000  \n",
       "Range      1.000000  1.000000     1.000000   1.000000  1.000000  1.000000  \n",
       "25%       71.745308  0.572632   255.883000   0.731991  1.983939  1.000000  \n",
       "50%       77.645277  0.626117   280.045500   0.761288  2.193599  2.000000  \n",
       "75%       83.648598  0.726633   306.062500   0.796361  2.381612  2.000000  \n",
       "IQR       11.903290  0.154001    50.179500   0.064370  0.397673  1.000000  \n",
       "Skew       0.002725  0.493661     0.733627  -3.599237 -0.658188 -0.008024  \n",
       "Kurtosis  -0.466455 -0.740326     2.272685  29.975096 -0.428656 -2.007984  "
      ],
      "text/html": "<div>\n<style scoped>\n    .dataframe tbody tr th:only-of-type {\n        vertical-align: middle;\n    }\n\n    .dataframe tbody tr th {\n        vertical-align: top;\n    }\n\n    .dataframe thead th {\n        text-align: right;\n    }\n</style>\n<table border=\"1\" class=\"dataframe\">\n  <thead>\n    <tr style=\"text-align: right;\">\n      <th></th>\n      <th>Daerah</th>\n      <th>SumbuUtama</th>\n      <th>SumbuKecil</th>\n      <th>Keunikan</th>\n      <th>AreaBulatan</th>\n      <th>Diameter</th>\n      <th>KadarAir</th>\n      <th>Keliling</th>\n      <th>Bulatan</th>\n      <th>Ransum</th>\n      <th>Kelas</th>\n    </tr>\n  </thead>\n  <tbody>\n    <tr>\n      <th>Mean</th>\n      <td>4801.246000</td>\n      <td>116.045171</td>\n      <td>53.715246</td>\n      <td>0.878764</td>\n      <td>4.937048e+03</td>\n      <td>77.771158</td>\n      <td>0.648372</td>\n      <td>281.479722</td>\n      <td>0.761737</td>\n      <td>2.150915</td>\n      <td>1.502000</td>\n    </tr>\n    <tr>\n      <th>Median</th>\n      <td>4735.000000</td>\n      <td>115.405140</td>\n      <td>53.731199</td>\n      <td>0.890045</td>\n      <td>4.857000e+03</td>\n      <td>77.645277</td>\n      <td>0.626117</td>\n      <td>280.045500</td>\n      <td>0.761288</td>\n      <td>2.193599</td>\n      <td>2.000000</td>\n    </tr>\n    <tr>\n      <th>Modus</th>\n      <td>3992.000000</td>\n      <td>106.000000</td>\n      <td>55.000000</td>\n      <td>0.000000</td>\n      <td>3.802000e+03</td>\n      <td>74.000000</td>\n      <td>0.000000</td>\n      <td>240.000000</td>\n      <td>0.000000</td>\n      <td>2.000000</td>\n      <td>2.000000</td>\n    </tr>\n    <tr>\n      <th>Std</th>\n      <td>986.395491</td>\n      <td>18.282626</td>\n      <td>4.071075</td>\n      <td>0.036586</td>\n      <td>1.011696e+03</td>\n      <td>8.056867</td>\n      <td>0.094367</td>\n      <td>37.335402</td>\n      <td>0.061702</td>\n      <td>0.249767</td>\n      <td>0.500497</td>\n    </tr>\n    <tr>\n      <th>Var</th>\n      <td>972976.065615</td>\n      <td>334.254412</td>\n      <td>16.573650</td>\n      <td>0.001339</td>\n      <td>1.023529e+06</td>\n      <td>64.913111</td>\n      <td>0.008905</td>\n      <td>1393.932221</td>\n      <td>0.003807</td>\n      <td>0.062383</td>\n      <td>0.250497</td>\n    </tr>\n    <tr>\n      <th>Maximum</th>\n      <td>2522.000000</td>\n      <td>74.133114</td>\n      <td>39.906517</td>\n      <td>0.719916</td>\n      <td>2.579000e+03</td>\n      <td>56.666658</td>\n      <td>0.409927</td>\n      <td>197.015000</td>\n      <td>0.174590</td>\n      <td>1.440796</td>\n      <td>1.000000</td>\n    </tr>\n    <tr>\n      <th>Minimum</th>\n      <td>7453.000000</td>\n      <td>227.928583</td>\n      <td>68.977700</td>\n      <td>0.914001</td>\n      <td>7.720000e+03</td>\n      <td>97.413830</td>\n      <td>0.878899</td>\n      <td>488.837000</td>\n      <td>0.904748</td>\n      <td>2.464809</td>\n      <td>2.000000</td>\n    </tr>\n    <tr>\n      <th>Range</th>\n      <td>1.000000</td>\n      <td>1.000000</td>\n      <td>1.000000</td>\n      <td>1.000000</td>\n      <td>1.000000e+00</td>\n      <td>1.000000</td>\n      <td>1.000000</td>\n      <td>1.000000</td>\n      <td>1.000000</td>\n      <td>1.000000</td>\n      <td>1.000000</td>\n    </tr>\n    <tr>\n      <th>25%</th>\n      <td>4042.750000</td>\n      <td>104.116098</td>\n      <td>51.193576</td>\n      <td>0.863676</td>\n      <td>4.170250e+03</td>\n      <td>71.745308</td>\n      <td>0.572632</td>\n      <td>255.883000</td>\n      <td>0.731991</td>\n      <td>1.983939</td>\n      <td>1.000000</td>\n    </tr>\n    <tr>\n      <th>50%</th>\n      <td>4735.000000</td>\n      <td>115.405140</td>\n      <td>53.731199</td>\n      <td>0.890045</td>\n      <td>4.857000e+03</td>\n      <td>77.645277</td>\n      <td>0.626117</td>\n      <td>280.045500</td>\n      <td>0.761288</td>\n      <td>2.193599</td>\n      <td>2.000000</td>\n    </tr>\n    <tr>\n      <th>75%</th>\n      <td>5495.500000</td>\n      <td>129.046792</td>\n      <td>56.325158</td>\n      <td>0.907578</td>\n      <td>5.654250e+03</td>\n      <td>83.648598</td>\n      <td>0.726633</td>\n      <td>306.062500</td>\n      <td>0.796361</td>\n      <td>2.381612</td>\n      <td>2.000000</td>\n    </tr>\n    <tr>\n      <th>IQR</th>\n      <td>1452.750000</td>\n      <td>24.930694</td>\n      <td>5.131582</td>\n      <td>0.043902</td>\n      <td>1.484000e+03</td>\n      <td>11.903290</td>\n      <td>0.154001</td>\n      <td>50.179500</td>\n      <td>0.064370</td>\n      <td>0.397673</td>\n      <td>1.000000</td>\n    </tr>\n    <tr>\n      <th>Skew</th>\n      <td>0.238144</td>\n      <td>0.761529</td>\n      <td>-0.010828</td>\n      <td>-1.623472</td>\n      <td>2.575600e-01</td>\n      <td>0.002725</td>\n      <td>0.493661</td>\n      <td>0.733627</td>\n      <td>-3.599237</td>\n      <td>-0.658188</td>\n      <td>-0.008024</td>\n    </tr>\n    <tr>\n      <th>Kurtosis</th>\n      <td>-0.434631</td>\n      <td>4.330534</td>\n      <td>0.475568</td>\n      <td>2.917256</td>\n      <td>-4.096849e-01</td>\n      <td>-0.466455</td>\n      <td>-0.740326</td>\n      <td>2.272685</td>\n      <td>29.975096</td>\n      <td>-0.428656</td>\n      <td>-2.007984</td>\n    </tr>\n  </tbody>\n</table>\n</div>"
     },
     "metadata": {},
     "execution_count": 37
    }
   ],
   "source": [
    "ans = {}\n",
    "\n",
    "for att in attribute:\n",
    "    temp = {}\n",
    "    temp[\"Mean\"] = data[att].mean()\n",
    "    temp[\"Median\"] = data[att].median()\n",
    "    temp[\"Modus\"] = np.bincount(data[att]).argmax()\n",
    "    temp[\"Std\"] = data[att].std()\n",
    "    temp[\"Var\"] = data[att].var()\n",
    "    temp[\"Maximum\"] = data[att].min()\n",
    "    temp[\"Minimum\"] = data[att].max()\n",
    "    temp[\"Range\"] = maximum-minimum\n",
    "    quartile = data[att].quantile([.25, .5, .75])\n",
    "    temp[\"25%\"] = quartile[.25]\n",
    "    temp[\"50%\"] = quartile[.5]\n",
    "    temp[\"75%\"] = quartile[.75]\n",
    "    q75, q25 = np.percentile(data[att], [75 ,25])\n",
    "    temp[\"IQR\"] = q75 - q25\n",
    "    temp[\"Skew\"] = data[att].skew()\n",
    "    temp[\"Kurtosis\"] = data[att].kurtosis()\n",
    "\n",
    "    ans[att] = temp\n",
    "\n",
    "ans = pd.DataFrame(ans)\n",
    "ans"
   ]
  },
  {
   "cell_type": "code",
   "execution_count": null,
   "metadata": {},
   "outputs": [],
   "source": [
    "for att in attribute:\n",
    "    if (att == \"Id\" or att == \"Kelas\"):\n",
    "        continue\n",
    "        \n",
    "    x_axis = np.sort(data[att]) # kolom yang dituju\n",
    "    \n",
    "    \n",
    "    mean = statistics.mean(x_axis)\n",
    "    sd = statistics.stdev(x_axis)\n",
    "    plt.plot(x_axis, norm.pdf(x_axis, mean, sd))\n",
    "\n",
    "#     plt.hist(x_axis)\n",
    "    plt.title(\"plot kolom \"+ att)\n",
    "    plt.xlabel(att)\n",
    "    plt.ylabel(\"count\")\n",
    "    plt.show()\n",
    "    \n",
    "    plt.hist(x_axis)\n",
    "    plt.show()\n",
    "    \n",
    "#     dummy\n",
    "    x = stats.norm.rvs(size=len(x_axis)-1)\n",
    "    num_bins = 20\n",
    "    plt.hist(x, bins=num_bins, facecolor='blue', alpha=0.5)\n",
    "\n",
    "    y = np.linspace(-4, 4, 1000)\n",
    "    bin_width = (x.max() - x.min()) / num_bins\n",
    "    plt.plot(y, stats.norm.pdf(y) * (len(x_axis)-1) * bin_width)\n",
    "    \n",
    "    plt.show()\n",
    "    \n",
    "    "
   ]
  },
  {
   "cell_type": "code",
   "execution_count": null,
   "metadata": {},
   "outputs": [],
   "source": [
    "for att in attribute:\n",
    "    if (att == \"Kelas\"):\n",
    "        continue\n",
    "        \n",
    "    x_axis = data[att] # kolom yang dituju\n",
    "    plt.boxplot(x_axis)\n",
    "    plt.title(att)\n",
    "    plt.show()\n",
    "    \n",
    "    plt.hist(x_axis)\n",
    "    plt.title(\"plot kolom \"+ att)\n",
    "    plt.xlabel(att)\n",
    "    plt.ylabel(\"count\")\n",
    "    plt.show()\n",
    "    \n",
    "\n"
   ]
  },
  {
   "cell_type": "code",
   "execution_count": null,
   "metadata": {},
   "outputs": [],
   "source": [
    "def ecdf(data):\n",
    "    \"\"\"Compute ECDF for a one-dimensional array of measurements.\"\"\"\n",
    "\n",
    "    # Number of data points: n\n",
    "    n = len(data)\n",
    "\n",
    "    # x-data for the ECDF: x\n",
    "    x = np.sort(data)\n",
    "\n",
    "    # y-data for the ECDF: y\n",
    "    y = np.arange(1, n+1) / n\n",
    "\n",
    "    return x, y\n",
    "\n",
    "\n",
    "\n",
    "for att in attribute:\n",
    "    if (att == \"Kelas\"):\n",
    "        continue\n",
    "    x, y = ecdf(data[att])\n",
    "\n",
    "    plt.figure()\n",
    "    sns.set()\n",
    "    plt.plot(x, y, marker=\".\", linestyle=\"none\")\n",
    "    plt.xlabel(att)\n",
    "    plt.ylabel(\"Cumulative Distribution Function\")\n",
    "    \n",
    "    samples = np.random.normal(np.mean(data[att]), np.std(data[att]), size=10000)\n",
    "    x_theor, y_theor = ecdf(samples)\n",
    "    plt.plot(x_theor, y_theor)\n",
    "    plt.legend(('Normal Distribution', 'Empirical Data'), loc='lower right')\n",
    "    \n",
    "    print(stats.normaltest(data[att]))"
   ]
  },
  {
   "cell_type": "code",
   "execution_count": null,
   "metadata": {},
   "outputs": [],
   "source": [
    "for att in attribute:\n",
    "    if (att == \"Kelas\"):\n",
    "        continue\n",
    "\n",
    "    column_1 = data[att]\n",
    "    column_2 = data[\"Kelas\"]\n",
    "    correlation = column_1.corr(column_2)\n",
    "    print(\"korelasi antara\", att, \"dan Kelas\")\n",
    "    print(correlation)\n",
    "    \n",
    "#     dataFrame = pd.DataFrame(data = data, columns=[att,'Kelas'])\n",
    "    \n",
    "    corrTitle = \"Scatter plot antara kolom\"+ att+ \" dan Kelas\"\n",
    "    data.plot.scatter(x=att, y='Kelas', title= corrTitle, color='DarkBlue');\n",
    "    plt.show();"
   ]
  }
 ],
 "metadata": {
  "kernelspec": {
   "name": "python390jvsc74a57bd09ce617fb946f4323cdd56b13ccbb455c10d4fb4e6e138981c3f6f08177c21c55",
   "display_name": "Python 3.9.0 64-bit"
  },
  "language_info": {
   "codemirror_mode": {
    "name": "ipython",
    "version": 3
   },
   "file_extension": ".py",
   "mimetype": "text/x-python",
   "name": "python",
   "nbconvert_exporter": "python",
   "pygments_lexer": "ipython3",
   "version": "3.9.0-final"
  },
  "metadata": {
   "interpreter": {
    "hash": "9ce617fb946f4323cdd56b13ccbb455c10d4fb4e6e138981c3f6f08177c21c55"
   }
  }
 },
 "nbformat": 4,
 "nbformat_minor": 2
}