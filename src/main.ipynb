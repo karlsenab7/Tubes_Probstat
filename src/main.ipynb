{
 "metadata": {
  "language_info": {
   "codemirror_mode": {
    "name": "ipython",
    "version": 3
   },
   "file_extension": ".py",
   "mimetype": "text/x-python",
   "name": "python",
   "nbconvert_exporter": "python",
   "pygments_lexer": "ipython3",
   "version": "3.9.0-final"
  },
  "orig_nbformat": 2,
  "kernelspec": {
   "name": "python390jvsc74a57bd09ce617fb946f4323cdd56b13ccbb455c10d4fb4e6e138981c3f6f08177c21c55",
   "display_name": "Python 3.9.0 64-bit"
  },
  "metadata": {
   "interpreter": {
    "hash": "9ce617fb946f4323cdd56b13ccbb455c10d4fb4e6e138981c3f6f08177c21c55"
   }
  }
 },
 "nbformat": 4,
 "nbformat_minor": 2,
 "cells": [
  {
   "cell_type": "code",
   "execution_count": 4,
   "metadata": {},
   "outputs": [],
   "source": [
    "import pandas as pd\n",
    "import "
   ]
  },
  {
   "cell_type": "code",
   "execution_count": 6,
   "metadata": {},
   "outputs": [
    {
     "output_type": "execute_result",
     "data": {
      "text/plain": [
       "      Id  Daerah  SumbuUtama  SumbuKecil  Keunikan  AreaBulatan   Diameter  \\\n",
       "0      1    5781  128.288875   58.470846  0.890095         5954  85.793926   \n",
       "1      2    4176  109.348294   49.837688  0.890098         4277  72.918093   \n",
       "2      3    4555  114.427991   52.151207  0.890105         4706  76.155145   \n",
       "3      4    4141  108.701190   49.457349  0.890499         4236  72.611879   \n",
       "4      5    5273  122.747868   55.757848  0.890876         5431  81.937733   \n",
       "..   ...     ...         ...         ...       ...          ...        ...   \n",
       "495  496    5083  120.083450   54.821580  0.889709         5179  80.447975   \n",
       "496  497    4432  112.367050   51.294914  0.889726         4550  75.119889   \n",
       "497  498    5020  119.873742   54.718545  0.889740         5104  79.947874   \n",
       "498  499    4035  107.311728   48.930802  0.889996         4150  71.676506   \n",
       "499  500    3379   99.014789   44.631551  0.892647         3491  65.591741   \n",
       "\n",
       "     KadarAir  Keliling   Bulatan    Ransum  Kelas  \n",
       "0    0.674090   316.756  0.724041  2.194066      1  \n",
       "1    0.596231   260.346  0.774227  2.194088      1  \n",
       "2    0.776641   279.606  0.732159  2.194158      1  \n",
       "3    0.633180   260.478  0.766961  2.197877      1  \n",
       "4    0.669842   302.730  0.723031  2.201446      1  \n",
       "..        ...       ...       ...       ...    ...  \n",
       "495  0.534827   286.377  0.778850  2.190441      2  \n",
       "496  0.601194   270.823  0.759344  2.190608      2  \n",
       "497  0.528421   285.799  0.772311  2.190733      2  \n",
       "498  0.584698   258.503  0.758791  2.193132      2  \n",
       "499  0.653578   237.593  0.752196  2.218493      2  \n",
       "\n",
       "[500 rows x 12 columns]"
      ],
      "text/html": "<div>\n<style scoped>\n    .dataframe tbody tr th:only-of-type {\n        vertical-align: middle;\n    }\n\n    .dataframe tbody tr th {\n        vertical-align: top;\n    }\n\n    .dataframe thead th {\n        text-align: right;\n    }\n</style>\n<table border=\"1\" class=\"dataframe\">\n  <thead>\n    <tr style=\"text-align: right;\">\n      <th></th>\n      <th>Id</th>\n      <th>Daerah</th>\n      <th>SumbuUtama</th>\n      <th>SumbuKecil</th>\n      <th>Keunikan</th>\n      <th>AreaBulatan</th>\n      <th>Diameter</th>\n      <th>KadarAir</th>\n      <th>Keliling</th>\n      <th>Bulatan</th>\n      <th>Ransum</th>\n      <th>Kelas</th>\n    </tr>\n  </thead>\n  <tbody>\n    <tr>\n      <th>0</th>\n      <td>1</td>\n      <td>5781</td>\n      <td>128.288875</td>\n      <td>58.470846</td>\n      <td>0.890095</td>\n      <td>5954</td>\n      <td>85.793926</td>\n      <td>0.674090</td>\n      <td>316.756</td>\n      <td>0.724041</td>\n      <td>2.194066</td>\n      <td>1</td>\n    </tr>\n    <tr>\n      <th>1</th>\n      <td>2</td>\n      <td>4176</td>\n      <td>109.348294</td>\n      <td>49.837688</td>\n      <td>0.890098</td>\n      <td>4277</td>\n      <td>72.918093</td>\n      <td>0.596231</td>\n      <td>260.346</td>\n      <td>0.774227</td>\n      <td>2.194088</td>\n      <td>1</td>\n    </tr>\n    <tr>\n      <th>2</th>\n      <td>3</td>\n      <td>4555</td>\n      <td>114.427991</td>\n      <td>52.151207</td>\n      <td>0.890105</td>\n      <td>4706</td>\n      <td>76.155145</td>\n      <td>0.776641</td>\n      <td>279.606</td>\n      <td>0.732159</td>\n      <td>2.194158</td>\n      <td>1</td>\n    </tr>\n    <tr>\n      <th>3</th>\n      <td>4</td>\n      <td>4141</td>\n      <td>108.701190</td>\n      <td>49.457349</td>\n      <td>0.890499</td>\n      <td>4236</td>\n      <td>72.611879</td>\n      <td>0.633180</td>\n      <td>260.478</td>\n      <td>0.766961</td>\n      <td>2.197877</td>\n      <td>1</td>\n    </tr>\n    <tr>\n      <th>4</th>\n      <td>5</td>\n      <td>5273</td>\n      <td>122.747868</td>\n      <td>55.757848</td>\n      <td>0.890876</td>\n      <td>5431</td>\n      <td>81.937733</td>\n      <td>0.669842</td>\n      <td>302.730</td>\n      <td>0.723031</td>\n      <td>2.201446</td>\n      <td>1</td>\n    </tr>\n    <tr>\n      <th>...</th>\n      <td>...</td>\n      <td>...</td>\n      <td>...</td>\n      <td>...</td>\n      <td>...</td>\n      <td>...</td>\n      <td>...</td>\n      <td>...</td>\n      <td>...</td>\n      <td>...</td>\n      <td>...</td>\n      <td>...</td>\n    </tr>\n    <tr>\n      <th>495</th>\n      <td>496</td>\n      <td>5083</td>\n      <td>120.083450</td>\n      <td>54.821580</td>\n      <td>0.889709</td>\n      <td>5179</td>\n      <td>80.447975</td>\n      <td>0.534827</td>\n      <td>286.377</td>\n      <td>0.778850</td>\n      <td>2.190441</td>\n      <td>2</td>\n    </tr>\n    <tr>\n      <th>496</th>\n      <td>497</td>\n      <td>4432</td>\n      <td>112.367050</td>\n      <td>51.294914</td>\n      <td>0.889726</td>\n      <td>4550</td>\n      <td>75.119889</td>\n      <td>0.601194</td>\n      <td>270.823</td>\n      <td>0.759344</td>\n      <td>2.190608</td>\n      <td>2</td>\n    </tr>\n    <tr>\n      <th>497</th>\n      <td>498</td>\n      <td>5020</td>\n      <td>119.873742</td>\n      <td>54.718545</td>\n      <td>0.889740</td>\n      <td>5104</td>\n      <td>79.947874</td>\n      <td>0.528421</td>\n      <td>285.799</td>\n      <td>0.772311</td>\n      <td>2.190733</td>\n      <td>2</td>\n    </tr>\n    <tr>\n      <th>498</th>\n      <td>499</td>\n      <td>4035</td>\n      <td>107.311728</td>\n      <td>48.930802</td>\n      <td>0.889996</td>\n      <td>4150</td>\n      <td>71.676506</td>\n      <td>0.584698</td>\n      <td>258.503</td>\n      <td>0.758791</td>\n      <td>2.193132</td>\n      <td>2</td>\n    </tr>\n    <tr>\n      <th>499</th>\n      <td>500</td>\n      <td>3379</td>\n      <td>99.014789</td>\n      <td>44.631551</td>\n      <td>0.892647</td>\n      <td>3491</td>\n      <td>65.591741</td>\n      <td>0.653578</td>\n      <td>237.593</td>\n      <td>0.752196</td>\n      <td>2.218493</td>\n      <td>2</td>\n    </tr>\n  </tbody>\n</table>\n<p>500 rows × 12 columns</p>\n</div>"
     },
     "metadata": {},
     "execution_count": 6
    }
   ],
   "source": [
    "data = pd.read_csv(\"../data/Gandum.csv\")\n",
    "data"
   ]
  },
  {
   "cell_type": "code",
   "execution_count": 9,
   "metadata": {},
   "outputs": [
    {
     "output_type": "execute_result",
     "data": {
      "text/plain": [
       "0      58.470846\n",
       "1      49.837688\n",
       "2      52.151207\n",
       "3      49.457349\n",
       "4      55.757848\n",
       "         ...    \n",
       "495    54.821580\n",
       "496    51.294914\n",
       "497    54.718545\n",
       "498    48.930802\n",
       "499    44.631551\n",
       "Name: SumbuKecil, Length: 500, dtype: float64"
      ]
     },
     "metadata": {},
     "execution_count": 9
    }
   ],
   "source": []
  },
  {
   "cell_type": "code",
   "execution_count": null,
   "metadata": {},
   "outputs": [],
   "source": []
  }
 ]
}