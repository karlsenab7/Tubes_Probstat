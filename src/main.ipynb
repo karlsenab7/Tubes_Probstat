{
 "metadata": {
  "language_info": {
   "codemirror_mode": {
    "name": "ipython",
    "version": 3
   },
   "file_extension": ".py",
   "mimetype": "text/x-python",
   "name": "python",
   "nbconvert_exporter": "python",
   "pygments_lexer": "ipython3",
   "version": "3.9.0-final"
  },
  "orig_nbformat": 2,
  "kernelspec": {
   "name": "python390jvsc74a57bd09ce617fb946f4323cdd56b13ccbb455c10d4fb4e6e138981c3f6f08177c21c55",
   "display_name": "Python 3.9.0 64-bit"
  },
  "metadata": {
   "interpreter": {
    "hash": "9ce617fb946f4323cdd56b13ccbb455c10d4fb4e6e138981c3f6f08177c21c55"
   }
  }
 },
 "nbformat": 4,
 "nbformat_minor": 2,
 "cells": [
  {
   "cell_type": "code",
   "execution_count": 80,
   "metadata": {},
   "outputs": [],
   "source": [
    "import pandas as pd\n",
    "import numpy as np\n",
    "from matplotlib import pyplot as plt"
   ]
  },
  {
   "cell_type": "code",
   "execution_count": 67,
   "metadata": {},
   "outputs": [
    {
     "output_type": "execute_result",
     "data": {
      "text/plain": [
       "      Id  Daerah  SumbuUtama  SumbuKecil  Keunikan  AreaBulatan   Diameter  \\\n",
       "0      1    5781  128.288875   58.470846  0.890095         5954  85.793926   \n",
       "1      2    4176  109.348294   49.837688  0.890098         4277  72.918093   \n",
       "2      3    4555  114.427991   52.151207  0.890105         4706  76.155145   \n",
       "3      4    4141  108.701190   49.457349  0.890499         4236  72.611879   \n",
       "4      5    5273  122.747868   55.757848  0.890876         5431  81.937733   \n",
       "..   ...     ...         ...         ...       ...          ...        ...   \n",
       "495  496    5083  120.083450   54.821580  0.889709         5179  80.447975   \n",
       "496  497    4432  112.367050   51.294914  0.889726         4550  75.119889   \n",
       "497  498    5020  119.873742   54.718545  0.889740         5104  79.947874   \n",
       "498  499    4035  107.311728   48.930802  0.889996         4150  71.676506   \n",
       "499  500    3379   99.014789   44.631551  0.892647         3491  65.591741   \n",
       "\n",
       "     KadarAir  Keliling   Bulatan    Ransum  Kelas  \n",
       "0    0.674090   316.756  0.724041  2.194066      1  \n",
       "1    0.596231   260.346  0.774227  2.194088      1  \n",
       "2    0.776641   279.606  0.732159  2.194158      1  \n",
       "3    0.633180   260.478  0.766961  2.197877      1  \n",
       "4    0.669842   302.730  0.723031  2.201446      1  \n",
       "..        ...       ...       ...       ...    ...  \n",
       "495  0.534827   286.377  0.778850  2.190441      2  \n",
       "496  0.601194   270.823  0.759344  2.190608      2  \n",
       "497  0.528421   285.799  0.772311  2.190733      2  \n",
       "498  0.584698   258.503  0.758791  2.193132      2  \n",
       "499  0.653578   237.593  0.752196  2.218493      2  \n",
       "\n",
       "[500 rows x 12 columns]"
      ],
      "text/html": "<div>\n<style scoped>\n    .dataframe tbody tr th:only-of-type {\n        vertical-align: middle;\n    }\n\n    .dataframe tbody tr th {\n        vertical-align: top;\n    }\n\n    .dataframe thead th {\n        text-align: right;\n    }\n</style>\n<table border=\"1\" class=\"dataframe\">\n  <thead>\n    <tr style=\"text-align: right;\">\n      <th></th>\n      <th>Id</th>\n      <th>Daerah</th>\n      <th>SumbuUtama</th>\n      <th>SumbuKecil</th>\n      <th>Keunikan</th>\n      <th>AreaBulatan</th>\n      <th>Diameter</th>\n      <th>KadarAir</th>\n      <th>Keliling</th>\n      <th>Bulatan</th>\n      <th>Ransum</th>\n      <th>Kelas</th>\n    </tr>\n  </thead>\n  <tbody>\n    <tr>\n      <th>0</th>\n      <td>1</td>\n      <td>5781</td>\n      <td>128.288875</td>\n      <td>58.470846</td>\n      <td>0.890095</td>\n      <td>5954</td>\n      <td>85.793926</td>\n      <td>0.674090</td>\n      <td>316.756</td>\n      <td>0.724041</td>\n      <td>2.194066</td>\n      <td>1</td>\n    </tr>\n    <tr>\n      <th>1</th>\n      <td>2</td>\n      <td>4176</td>\n      <td>109.348294</td>\n      <td>49.837688</td>\n      <td>0.890098</td>\n      <td>4277</td>\n      <td>72.918093</td>\n      <td>0.596231</td>\n      <td>260.346</td>\n      <td>0.774227</td>\n      <td>2.194088</td>\n      <td>1</td>\n    </tr>\n    <tr>\n      <th>2</th>\n      <td>3</td>\n      <td>4555</td>\n      <td>114.427991</td>\n      <td>52.151207</td>\n      <td>0.890105</td>\n      <td>4706</td>\n      <td>76.155145</td>\n      <td>0.776641</td>\n      <td>279.606</td>\n      <td>0.732159</td>\n      <td>2.194158</td>\n      <td>1</td>\n    </tr>\n    <tr>\n      <th>3</th>\n      <td>4</td>\n      <td>4141</td>\n      <td>108.701190</td>\n      <td>49.457349</td>\n      <td>0.890499</td>\n      <td>4236</td>\n      <td>72.611879</td>\n      <td>0.633180</td>\n      <td>260.478</td>\n      <td>0.766961</td>\n      <td>2.197877</td>\n      <td>1</td>\n    </tr>\n    <tr>\n      <th>4</th>\n      <td>5</td>\n      <td>5273</td>\n      <td>122.747868</td>\n      <td>55.757848</td>\n      <td>0.890876</td>\n      <td>5431</td>\n      <td>81.937733</td>\n      <td>0.669842</td>\n      <td>302.730</td>\n      <td>0.723031</td>\n      <td>2.201446</td>\n      <td>1</td>\n    </tr>\n    <tr>\n      <th>...</th>\n      <td>...</td>\n      <td>...</td>\n      <td>...</td>\n      <td>...</td>\n      <td>...</td>\n      <td>...</td>\n      <td>...</td>\n      <td>...</td>\n      <td>...</td>\n      <td>...</td>\n      <td>...</td>\n      <td>...</td>\n    </tr>\n    <tr>\n      <th>495</th>\n      <td>496</td>\n      <td>5083</td>\n      <td>120.083450</td>\n      <td>54.821580</td>\n      <td>0.889709</td>\n      <td>5179</td>\n      <td>80.447975</td>\n      <td>0.534827</td>\n      <td>286.377</td>\n      <td>0.778850</td>\n      <td>2.190441</td>\n      <td>2</td>\n    </tr>\n    <tr>\n      <th>496</th>\n      <td>497</td>\n      <td>4432</td>\n      <td>112.367050</td>\n      <td>51.294914</td>\n      <td>0.889726</td>\n      <td>4550</td>\n      <td>75.119889</td>\n      <td>0.601194</td>\n      <td>270.823</td>\n      <td>0.759344</td>\n      <td>2.190608</td>\n      <td>2</td>\n    </tr>\n    <tr>\n      <th>497</th>\n      <td>498</td>\n      <td>5020</td>\n      <td>119.873742</td>\n      <td>54.718545</td>\n      <td>0.889740</td>\n      <td>5104</td>\n      <td>79.947874</td>\n      <td>0.528421</td>\n      <td>285.799</td>\n      <td>0.772311</td>\n      <td>2.190733</td>\n      <td>2</td>\n    </tr>\n    <tr>\n      <th>498</th>\n      <td>499</td>\n      <td>4035</td>\n      <td>107.311728</td>\n      <td>48.930802</td>\n      <td>0.889996</td>\n      <td>4150</td>\n      <td>71.676506</td>\n      <td>0.584698</td>\n      <td>258.503</td>\n      <td>0.758791</td>\n      <td>2.193132</td>\n      <td>2</td>\n    </tr>\n    <tr>\n      <th>499</th>\n      <td>500</td>\n      <td>3379</td>\n      <td>99.014789</td>\n      <td>44.631551</td>\n      <td>0.892647</td>\n      <td>3491</td>\n      <td>65.591741</td>\n      <td>0.653578</td>\n      <td>237.593</td>\n      <td>0.752196</td>\n      <td>2.218493</td>\n      <td>2</td>\n    </tr>\n  </tbody>\n</table>\n<p>500 rows × 12 columns</p>\n</div>"
     },
     "metadata": {},
     "execution_count": 67
    }
   ],
   "source": [
    "data = pd.read_csv(\"../data/Gandum.csv\")\n",
    "data"
   ]
  },
  {
   "cell_type": "code",
   "execution_count": 70,
   "metadata": {},
   "outputs": [],
   "source": [
    "attribute = [\"Id\",\"Daerah\",\"SumbuUtama\",\"SumbuKecil\",\"Keunikan\",\"AreaBulatan\",\"Diameter\",\"KadarAir\",\"Keliling\",\"Bulatan\",\"Ransum\",\"Kelas\"]"
   ]
  },
  {
   "cell_type": "code",
   "execution_count": 129,
   "metadata": {
    "tags": []
   },
   "outputs": [
    {
     "output_type": "stream",
     "name": "stdout",
     "text": [
      "=====================================\nCoulumn : Daerah\n\nMean : 4801.246\nMedian : 4735.0\nModus : 3992\nStandar devisiasi : 986.3954914816017\nVariansi : 972976.0656152305\nRange : 4931\nMin : 2522\nMax : 7453\nQuartile (25% | 50% | 75%) : 4042.75 | 4735.0 | 5495.5\nIQR : 1452.75\nSkewness : 0.23814408738280812\nKurtosis : -0.4346305340273977\n\n=====================================\nCoulumn : SumbuUtama\n\nMean : 116.04517136778\nMedian : 115.40513995\nModus : 106\nStandar devisiasi : 18.28262595755935\nVariansi : 334.25441190402296\nRange : 153.79546865999998\nMin : 74.13311404\nMax : 227.9285827\nQuartile (25% | 50% | 75%) : 104.116098175 | 115.40513995 | 129.046792025\nIQR : 24.930693849999997\nSkewness : 0.7615287378076652\nKurtosis : 4.33053354843697\n\n=====================================\nCoulumn : SumbuKecil\n\nMean : 53.71524598896\nMedian : 53.731198774999996\nModus : 55\nStandar devisiasi : 4.0710747524750355\nVariansi : 16.57364964023967\nRange : 29.071182429999993\nMin : 39.90651744\nMax : 68.97769987\nQuartile (25% | 50% | 75%) : 51.1935763325 | 53.731198774999996 | 56.3251579825\nIQR : 5.131581650000001\nSkewness : -0.010828051555611359\nKurtosis : 0.475568450438137\n\n=====================================\nCoulumn : Keunikan\n\nMean : 0.8787639143399999\nMedian : 0.8900454185\nModus : 0\nStandar devisiasi : 0.036585905504777014\nVariansi : 0.0013385284816044732\nRange : 0.19408517999999997\nMin : 0.719916226\nMax : 0.914001406\nQuartile (25% | 50% | 75%) : 0.86367575275 | 0.8900454185 | 0.907577917\nIQR : 0.04390216425000004\nSkewness : -1.6234718222806501\nKurtosis : 2.917255925694391\n\n=====================================\nCoulumn : AreaBulatan\n\nMean : 4937.048\nMedian : 4857.0\nModus : 3802\nStandar devisiasi : 1011.6962549701573\nVariansi : 1023529.3123206414\nRange : 5141\nMin : 2579\nMax : 7720\nQuartile (25% | 50% | 75%) : 4170.25 | 4857.0 | 5654.25\nIQR : 1484.0\nSkewness : 0.2575600053152032\nKurtosis : -0.40968492037366033\n\n=====================================\nCoulumn : Diameter\n\nMean : 77.77115780832001\nMedian : 77.64527658\nModus : 74\nStandar devisiasi : 8.056867291849713\nVariansi : 64.91311055847774\nRange : 40.747172240000005\nMin : 56.66665803\nMax : 97.41383027\nQuartile (25% | 50% | 75%) : 71.7453075475 | 77.64527658 | 83.6485975675\nIQR : 11.90329002\nSkewness : 0.002724966865193717\nKurtosis : -0.46645451303121455\n\n=====================================\nCoulumn : KadarAir\n\nMean : 0.6483716718979999\nMedian : 0.626116699\nModus : 0\nStandar devisiasi : 0.09436709809379533\nVariansi : 0.00890514920264399\nRange : 0.46897193099999995\nMin : 0.409927152\nMax : 0.878899083\nQuartile (25% | 50% | 75%) : 0.57263245725 | 0.626116699 | 0.7266333445\nIQR : 0.15400088724999994\nSkewness : 0.49366131797330265\nKurtosis : -0.7403261705867821\n\n=====================================\nCoulumn : Keliling\n\nMean : 281.4797219999999\nMedian : 280.0455\nModus : 240\nStandar devisiasi : 37.33540171514401\nVariansi : 1393.9322212311781\nRange : 291.822\nMin : 197.015\nMax : 488.837\nQuartile (25% | 50% | 75%) : 255.883 | 280.0455 | 306.0625\nIQR : 50.17949999999999\nSkewness : 0.7336269072005543\nKurtosis : 2.272684731245573\n\n=====================================\nCoulumn : Bulatan\n\nMean : 0.7617374363080001\nMedian : 0.7612884394999999\nModus : 0\nStandar devisiasi : 0.06170246078673261\nVariansi : 0.0038071936671382756\nRange : 0.730158135\nMin : 0.174590178\nMax : 0.904748313\nQuartile (25% | 50% | 75%) : 0.731990728 | 0.7612884394999999 | 0.79636096975\nIQR : 0.06437024175000006\nSkewness : -3.599236766361642\nKurtosis : 29.975095904630063\n\n=====================================\nCoulumn : Ransum\n\nMean : 2.150915331084\nMedian : 2.1935990365\nModus : 2\nStandar devisiasi : 0.2497668892706582\nVariansi : 0.06238349897594124\nRange : 1.0240129660000001\nMin : 1.440795615\nMax : 2.464808581\nQuartile (25% | 50% | 75%) : 1.98393879075 | 2.1935990365 | 2.38161221825\nIQR : 0.3976734275\nSkewness : -0.6581880925333655\nKurtosis : -0.4286557930626147\n\n=====================================\nCoulumn : Kelas\n\nMean : 1.502\nMedian : 2.0\nModus : 2\nStandar devisiasi : 0.5004967472301652\nVariansi : 0.2504969939879759\nRange : 1\nMin : 1\nMax : 2\nQuartile (25% | 50% | 75%) : 1.0 | 2.0 | 2.0\nIQR : 1.0\nSkewness : -0.008024156558966223\nKurtosis : -2.007983644065181\n\n"
     ]
    }
   ],
   "source": [
    "for att in attribute:\n",
    "    if (att == \"Id\"):\n",
    "        continue\n",
    "\n",
    "    mean = data[att].mean()\n",
    "    median = data[att].median()\n",
    "    modus = np.bincount(data[att]).argmax()\n",
    "    std = data[att].std()\n",
    "    var = data[att].var()\n",
    "    minimum = data[att].min()\n",
    "    maximum = data[att].max()\n",
    "    rang = maximum-minimum\n",
    "    quartile = data[att].quantile([.25, .5, .75])\n",
    "    q75, q25 = np.percentile(data[att], [75 ,25])\n",
    "    iqr = q75 - q25\n",
    "    skw = data[att].skew()\n",
    "    kurt = data[att].kurtosis()\n",
    "\n",
    "    print(\"=====================================\")\n",
    "    print(\"Coulumn :\", att)\n",
    "    print()\n",
    "    print(\"Mean :\", mean)\n",
    "    print(\"Median :\", median)\n",
    "    print(\"Modus :\", modus)\n",
    "    print(\"Standar devisiasi :\", std)\n",
    "    print(\"Variansi :\", var)\n",
    "    print(\"Range :\", rang)\n",
    "    print(\"Min :\", minimum)\n",
    "    print(\"Max :\", maximum)\n",
    "    print(\"Quartile (25% | 50% | 75%) :\", quartile[.25], \"|\", quartile[.5], \"|\", quartile[.75])\n",
    "    print(\"IQR :\", iqr)\n",
    "    print(\"Skewness :\", skw)\n",
    "    print(\"Kurtosis :\", kurt)\n",
    "    print()"
   ]
  },
  {
   "cell_type": "code",
   "execution_count": 154,
   "metadata": {},
   "outputs": [
    {
     "output_type": "display_data",
     "data": {
      "text/plain": "<Figure size 432x288 with 1 Axes>",
      "image/svg+xml": "<?xml version=\"1.0\" encoding=\"utf-8\" standalone=\"no\"?>\r\n<!DOCTYPE svg PUBLIC \"-//W3C//DTD SVG 1.1//EN\"\r\n  \"http://www.w3.org/Graphics/SVG/1.1/DTD/svg11.dtd\">\r\n<svg height=\"248.518125pt\" version=\"1.1\" viewBox=\"0 0 381.65 248.518125\" width=\"381.65pt\" xmlns=\"http://www.w3.org/2000/svg\" xmlns:xlink=\"http://www.w3.org/1999/xlink\">\r\n <metadata>\r\n  <rdf:RDF xmlns:cc=\"http://creativecommons.org/ns#\" xmlns:dc=\"http://purl.org/dc/elements/1.1/\" xmlns:rdf=\"http://www.w3.org/1999/02/22-rdf-syntax-ns#\">\r\n   <cc:Work>\r\n    <dc:type rdf:resource=\"http://purl.org/dc/dcmitype/StillImage\"/>\r\n    <dc:date>2021-04-10T00:51:19.256915</dc:date>\r\n    <dc:format>image/svg+xml</dc:format>\r\n    <dc:creator>\r\n     <cc:Agent>\r\n      <dc:title>Matplotlib v3.4.1, https://matplotlib.org/</dc:title>\r\n     </cc:Agent>\r\n    </dc:creator>\r\n   </cc:Work>\r\n  </rdf:RDF>\r\n </metadata>\r\n <defs>\r\n  <style type=\"text/css\">*{stroke-linecap:butt;stroke-linejoin:round;}</style>\r\n </defs>\r\n <g id=\"figure_1\">\r\n  <g id=\"patch_1\">\r\n   <path d=\"M -0 248.518125 \r\nL 381.65 248.518125 \r\nL 381.65 0 \r\nL -0 0 \r\nz\r\n\" style=\"fill:none;\"/>\r\n  </g>\r\n  <g id=\"axes_1\">\r\n   <g id=\"patch_2\">\r\n    <path d=\"M 39.65 224.64 \r\nL 374.45 224.64 \r\nL 374.45 7.2 \r\nL 39.65 7.2 \r\nz\r\n\" style=\"fill:#ffffff;\"/>\r\n   </g>\r\n   <g id=\"matplotlib.axis_1\">\r\n    <g id=\"xtick_1\">\r\n     <g id=\"line2d_1\">\r\n      <defs>\r\n       <path d=\"M 0 0 \r\nL 0 3.5 \r\n\" id=\"m97ccce7a20\" style=\"stroke:#000000;stroke-width:0.8;\"/>\r\n      </defs>\r\n      <g>\r\n       <use style=\"stroke:#000000;stroke-width:0.8;\" x=\"207.05\" xlink:href=\"#m97ccce7a20\" y=\"224.64\"/>\r\n      </g>\r\n     </g>\r\n     <g id=\"text_1\">\r\n      <!-- 1 -->\r\n      <g transform=\"translate(203.86875 239.238437)scale(0.1 -0.1)\">\r\n       <defs>\r\n        <path d=\"M 794 531 \r\nL 1825 531 \r\nL 1825 4091 \r\nL 703 3866 \r\nL 703 4441 \r\nL 1819 4666 \r\nL 2450 4666 \r\nL 2450 531 \r\nL 3481 531 \r\nL 3481 0 \r\nL 794 0 \r\nL 794 531 \r\nz\r\n\" id=\"DejaVuSans-31\" transform=\"scale(0.015625)\"/>\r\n       </defs>\r\n       <use xlink:href=\"#DejaVuSans-31\"/>\r\n      </g>\r\n     </g>\r\n    </g>\r\n   </g>\r\n   <g id=\"matplotlib.axis_2\">\r\n    <g id=\"ytick_1\">\r\n     <g id=\"line2d_2\">\r\n      <defs>\r\n       <path d=\"M 0 0 \r\nL -3.5 0 \r\n\" id=\"m5b85239e7d\" style=\"stroke:#000000;stroke-width:0.8;\"/>\r\n      </defs>\r\n      <g>\r\n       <use style=\"stroke:#000000;stroke-width:0.8;\" x=\"39.65\" xlink:href=\"#m5b85239e7d\" y=\"195.594416\"/>\r\n      </g>\r\n     </g>\r\n     <g id=\"text_2\">\r\n      <!-- 3000 -->\r\n      <g transform=\"translate(7.2 199.393635)scale(0.1 -0.1)\">\r\n       <defs>\r\n        <path d=\"M 2597 2516 \r\nQ 3050 2419 3304 2112 \r\nQ 3559 1806 3559 1356 \r\nQ 3559 666 3084 287 \r\nQ 2609 -91 1734 -91 \r\nQ 1441 -91 1130 -33 \r\nQ 819 25 488 141 \r\nL 488 750 \r\nQ 750 597 1062 519 \r\nQ 1375 441 1716 441 \r\nQ 2309 441 2620 675 \r\nQ 2931 909 2931 1356 \r\nQ 2931 1769 2642 2001 \r\nQ 2353 2234 1838 2234 \r\nL 1294 2234 \r\nL 1294 2753 \r\nL 1863 2753 \r\nQ 2328 2753 2575 2939 \r\nQ 2822 3125 2822 3475 \r\nQ 2822 3834 2567 4026 \r\nQ 2313 4219 1838 4219 \r\nQ 1578 4219 1281 4162 \r\nQ 984 4106 628 3988 \r\nL 628 4550 \r\nQ 988 4650 1302 4700 \r\nQ 1616 4750 1894 4750 \r\nQ 2613 4750 3031 4423 \r\nQ 3450 4097 3450 3541 \r\nQ 3450 3153 3228 2886 \r\nQ 3006 2619 2597 2516 \r\nz\r\n\" id=\"DejaVuSans-33\" transform=\"scale(0.015625)\"/>\r\n        <path d=\"M 2034 4250 \r\nQ 1547 4250 1301 3770 \r\nQ 1056 3291 1056 2328 \r\nQ 1056 1369 1301 889 \r\nQ 1547 409 2034 409 \r\nQ 2525 409 2770 889 \r\nQ 3016 1369 3016 2328 \r\nQ 3016 3291 2770 3770 \r\nQ 2525 4250 2034 4250 \r\nz\r\nM 2034 4750 \r\nQ 2819 4750 3233 4129 \r\nQ 3647 3509 3647 2328 \r\nQ 3647 1150 3233 529 \r\nQ 2819 -91 2034 -91 \r\nQ 1250 -91 836 529 \r\nQ 422 1150 422 2328 \r\nQ 422 3509 836 4129 \r\nQ 1250 4750 2034 4750 \r\nz\r\n\" id=\"DejaVuSans-30\" transform=\"scale(0.015625)\"/>\r\n       </defs>\r\n       <use xlink:href=\"#DejaVuSans-33\"/>\r\n       <use x=\"63.623047\" xlink:href=\"#DejaVuSans-30\"/>\r\n       <use x=\"127.246094\" xlink:href=\"#DejaVuSans-30\"/>\r\n       <use x=\"190.869141\" xlink:href=\"#DejaVuSans-30\"/>\r\n      </g>\r\n     </g>\r\n    </g>\r\n    <g id=\"ytick_2\">\r\n     <g id=\"line2d_3\">\r\n      <g>\r\n       <use style=\"stroke:#000000;stroke-width:0.8;\" x=\"39.65\" xlink:href=\"#m5b85239e7d\" y=\"155.50666\"/>\r\n      </g>\r\n     </g>\r\n     <g id=\"text_3\">\r\n      <!-- 4000 -->\r\n      <g transform=\"translate(7.2 159.305878)scale(0.1 -0.1)\">\r\n       <defs>\r\n        <path d=\"M 2419 4116 \r\nL 825 1625 \r\nL 2419 1625 \r\nL 2419 4116 \r\nz\r\nM 2253 4666 \r\nL 3047 4666 \r\nL 3047 1625 \r\nL 3713 1625 \r\nL 3713 1100 \r\nL 3047 1100 \r\nL 3047 0 \r\nL 2419 0 \r\nL 2419 1100 \r\nL 313 1100 \r\nL 313 1709 \r\nL 2253 4666 \r\nz\r\n\" id=\"DejaVuSans-34\" transform=\"scale(0.015625)\"/>\r\n       </defs>\r\n       <use xlink:href=\"#DejaVuSans-34\"/>\r\n       <use x=\"63.623047\" xlink:href=\"#DejaVuSans-30\"/>\r\n       <use x=\"127.246094\" xlink:href=\"#DejaVuSans-30\"/>\r\n       <use x=\"190.869141\" xlink:href=\"#DejaVuSans-30\"/>\r\n      </g>\r\n     </g>\r\n    </g>\r\n    <g id=\"ytick_3\">\r\n     <g id=\"line2d_4\">\r\n      <g>\r\n       <use style=\"stroke:#000000;stroke-width:0.8;\" x=\"39.65\" xlink:href=\"#m5b85239e7d\" y=\"115.418903\"/>\r\n      </g>\r\n     </g>\r\n     <g id=\"text_4\">\r\n      <!-- 5000 -->\r\n      <g transform=\"translate(7.2 119.218122)scale(0.1 -0.1)\">\r\n       <defs>\r\n        <path d=\"M 691 4666 \r\nL 3169 4666 \r\nL 3169 4134 \r\nL 1269 4134 \r\nL 1269 2991 \r\nQ 1406 3038 1543 3061 \r\nQ 1681 3084 1819 3084 \r\nQ 2600 3084 3056 2656 \r\nQ 3513 2228 3513 1497 \r\nQ 3513 744 3044 326 \r\nQ 2575 -91 1722 -91 \r\nQ 1428 -91 1123 -41 \r\nQ 819 9 494 109 \r\nL 494 744 \r\nQ 775 591 1075 516 \r\nQ 1375 441 1709 441 \r\nQ 2250 441 2565 725 \r\nQ 2881 1009 2881 1497 \r\nQ 2881 1984 2565 2268 \r\nQ 2250 2553 1709 2553 \r\nQ 1456 2553 1204 2497 \r\nQ 953 2441 691 2322 \r\nL 691 4666 \r\nz\r\n\" id=\"DejaVuSans-35\" transform=\"scale(0.015625)\"/>\r\n       </defs>\r\n       <use xlink:href=\"#DejaVuSans-35\"/>\r\n       <use x=\"63.623047\" xlink:href=\"#DejaVuSans-30\"/>\r\n       <use x=\"127.246094\" xlink:href=\"#DejaVuSans-30\"/>\r\n       <use x=\"190.869141\" xlink:href=\"#DejaVuSans-30\"/>\r\n      </g>\r\n     </g>\r\n    </g>\r\n    <g id=\"ytick_4\">\r\n     <g id=\"line2d_5\">\r\n      <g>\r\n       <use style=\"stroke:#000000;stroke-width:0.8;\" x=\"39.65\" xlink:href=\"#m5b85239e7d\" y=\"75.331147\"/>\r\n      </g>\r\n     </g>\r\n     <g id=\"text_5\">\r\n      <!-- 6000 -->\r\n      <g transform=\"translate(7.2 79.130365)scale(0.1 -0.1)\">\r\n       <defs>\r\n        <path d=\"M 2113 2584 \r\nQ 1688 2584 1439 2293 \r\nQ 1191 2003 1191 1497 \r\nQ 1191 994 1439 701 \r\nQ 1688 409 2113 409 \r\nQ 2538 409 2786 701 \r\nQ 3034 994 3034 1497 \r\nQ 3034 2003 2786 2293 \r\nQ 2538 2584 2113 2584 \r\nz\r\nM 3366 4563 \r\nL 3366 3988 \r\nQ 3128 4100 2886 4159 \r\nQ 2644 4219 2406 4219 \r\nQ 1781 4219 1451 3797 \r\nQ 1122 3375 1075 2522 \r\nQ 1259 2794 1537 2939 \r\nQ 1816 3084 2150 3084 \r\nQ 2853 3084 3261 2657 \r\nQ 3669 2231 3669 1497 \r\nQ 3669 778 3244 343 \r\nQ 2819 -91 2113 -91 \r\nQ 1303 -91 875 529 \r\nQ 447 1150 447 2328 \r\nQ 447 3434 972 4092 \r\nQ 1497 4750 2381 4750 \r\nQ 2619 4750 2861 4703 \r\nQ 3103 4656 3366 4563 \r\nz\r\n\" id=\"DejaVuSans-36\" transform=\"scale(0.015625)\"/>\r\n       </defs>\r\n       <use xlink:href=\"#DejaVuSans-36\"/>\r\n       <use x=\"63.623047\" xlink:href=\"#DejaVuSans-30\"/>\r\n       <use x=\"127.246094\" xlink:href=\"#DejaVuSans-30\"/>\r\n       <use x=\"190.869141\" xlink:href=\"#DejaVuSans-30\"/>\r\n      </g>\r\n     </g>\r\n    </g>\r\n    <g id=\"ytick_5\">\r\n     <g id=\"line2d_6\">\r\n      <g>\r\n       <use style=\"stroke:#000000;stroke-width:0.8;\" x=\"39.65\" xlink:href=\"#m5b85239e7d\" y=\"35.24339\"/>\r\n      </g>\r\n     </g>\r\n     <g id=\"text_6\">\r\n      <!-- 7000 -->\r\n      <g transform=\"translate(7.2 39.042609)scale(0.1 -0.1)\">\r\n       <defs>\r\n        <path d=\"M 525 4666 \r\nL 3525 4666 \r\nL 3525 4397 \r\nL 1831 0 \r\nL 1172 0 \r\nL 2766 4134 \r\nL 525 4134 \r\nL 525 4666 \r\nz\r\n\" id=\"DejaVuSans-37\" transform=\"scale(0.015625)\"/>\r\n       </defs>\r\n       <use xlink:href=\"#DejaVuSans-37\"/>\r\n       <use x=\"63.623047\" xlink:href=\"#DejaVuSans-30\"/>\r\n       <use x=\"127.246094\" xlink:href=\"#DejaVuSans-30\"/>\r\n       <use x=\"190.869141\" xlink:href=\"#DejaVuSans-30\"/>\r\n      </g>\r\n     </g>\r\n    </g>\r\n   </g>\r\n   <g id=\"line2d_7\">\r\n    <path clip-path=\"url(#paca05a782c)\" d=\"M 181.94 153.792908 \r\nL 232.16 153.792908 \r\nL 232.16 95.55542 \r\nL 181.94 95.55542 \r\nL 181.94 153.792908 \r\n\" style=\"fill:none;stroke:#000000;stroke-linecap:square;\"/>\r\n   </g>\r\n   <g id=\"line2d_8\">\r\n    <path clip-path=\"url(#paca05a782c)\" d=\"M 207.05 153.792908 \r\nL 207.05 214.756364 \r\n\" style=\"fill:none;stroke:#000000;stroke-linecap:square;\"/>\r\n   </g>\r\n   <g id=\"line2d_9\">\r\n    <path clip-path=\"url(#paca05a782c)\" d=\"M 207.05 95.55542 \r\nL 207.05 17.083636 \r\n\" style=\"fill:none;stroke:#000000;stroke-linecap:square;\"/>\r\n   </g>\r\n   <g id=\"line2d_10\">\r\n    <path clip-path=\"url(#paca05a782c)\" d=\"M 194.495 214.756364 \r\nL 219.605 214.756364 \r\n\" style=\"fill:none;stroke:#000000;stroke-linecap:square;\"/>\r\n   </g>\r\n   <g id=\"line2d_11\">\r\n    <path clip-path=\"url(#paca05a782c)\" d=\"M 194.495 17.083636 \r\nL 219.605 17.083636 \r\n\" style=\"fill:none;stroke:#000000;stroke-linecap:square;\"/>\r\n   </g>\r\n   <g id=\"line2d_12\"/>\r\n   <g id=\"line2d_13\">\r\n    <path clip-path=\"url(#paca05a782c)\" d=\"M 181.94 126.042159 \r\nL 232.16 126.042159 \r\n\" style=\"fill:none;stroke:#ff7f0e;stroke-linecap:square;\"/>\r\n   </g>\r\n   <g id=\"patch_3\">\r\n    <path d=\"M 39.65 224.64 \r\nL 39.65 7.2 \r\n\" style=\"fill:none;stroke:#000000;stroke-linecap:square;stroke-linejoin:miter;stroke-width:0.8;\"/>\r\n   </g>\r\n   <g id=\"patch_4\">\r\n    <path d=\"M 374.45 224.64 \r\nL 374.45 7.2 \r\n\" style=\"fill:none;stroke:#000000;stroke-linecap:square;stroke-linejoin:miter;stroke-width:0.8;\"/>\r\n   </g>\r\n   <g id=\"patch_5\">\r\n    <path d=\"M 39.65 224.64 \r\nL 374.45 224.64 \r\n\" style=\"fill:none;stroke:#000000;stroke-linecap:square;stroke-linejoin:miter;stroke-width:0.8;\"/>\r\n   </g>\r\n   <g id=\"patch_6\">\r\n    <path d=\"M 39.65 7.2 \r\nL 374.45 7.2 \r\n\" style=\"fill:none;stroke:#000000;stroke-linecap:square;stroke-linejoin:miter;stroke-width:0.8;\"/>\r\n   </g>\r\n  </g>\r\n </g>\r\n <defs>\r\n  <clipPath id=\"paca05a782c\">\r\n   <rect height=\"217.44\" width=\"334.8\" x=\"39.65\" y=\"7.2\"/>\r\n  </clipPath>\r\n </defs>\r\n</svg>\r\n",
      "image/png": "[encoded data removed]"
     },
     "metadata": {
      "needs_background": "light"
     }
    }
   ],
   "source": [
    "plt.boxplot(data[\"Daerah\"])\n",
    "plt.show()"
   ]
  },
  {
   "cell_type": "code",
   "execution_count": null,
   "metadata": {},
   "outputs": [],
   "source": []
  }
 ]
}